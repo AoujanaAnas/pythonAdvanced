{
  "nbformat": 4,
  "nbformat_minor": 0,
  "metadata": {
    "colab": {
      "name": "Untitled3.ipynb",
      "provenance": [],
      "collapsed_sections": [],
      "authorship_tag": "ABX9TyNF9TcoO9HOk40gyTo0Oinm",
      "include_colab_link": true
    },
    "kernelspec": {
      "name": "python3",
      "display_name": "Python 3"
    },
    "language_info": {
      "name": "python"
    }
  },
  "cells": [
    {
      "cell_type": "markdown",
      "metadata": {
        "id": "view-in-github",
        "colab_type": "text"
      },
      "source": [
        "<a href=\"https://colab.research.google.com/github/AoujanaAnas/pythonAdvanced/blob/main/InputOutputFile.ipynb\" target=\"_parent\"><img src=\"https://colab.research.google.com/assets/colab-badge.svg\" alt=\"Open In Colab\"/></a>"
      ]
    },
    {
      "cell_type": "markdown",
      "metadata": {
        "id": "XYkm_VHmEsR8"
      },
      "source": [
        "Input/Output files"
      ]
    },
    {
      "cell_type": "code",
      "metadata": {
        "colab": {
          "base_uri": "https://localhost:8080/"
        },
        "id": "zDDUAjaeErdh",
        "outputId": "d54d92a0-95e4-44f9-cbdc-4c969f7f87ac"
      },
      "source": [
        "f = open(\"fichier.txt\" , 'w' , encoding='utf8') #open file or create it in case doesn't exist\n",
        "\n",
        "inputs = input(\"write something: \")\n",
        "f.write(inputs)\n",
        "f.close()"
      ],
      "execution_count": 3,
      "outputs": [
        {
          "output_type": "stream",
          "text": [
            "write something: anas aoujana\n"
          ],
          "name": "stdout"
        }
      ]
    },
    {
      "cell_type": "code",
      "metadata": {
        "colab": {
          "base_uri": "https://localhost:8080/"
        },
        "id": "T_HmADKhGLu-",
        "outputId": "9b590912-22cd-483a-884b-bf711cb5b957"
      },
      "source": [
        "#open file as readable\n",
        "f = open(\"fichier.txt\" , 'r') \n",
        "print(f.read(4)) # read just 4 caracters \n",
        "print(f.read())\n",
        "f.close()"
      ],
      "execution_count": 10,
      "outputs": [
        {
          "output_type": "stream",
          "text": [
            "anas\n",
            " aoujanailyas aoujana  ayoub ouuss\n"
          ],
          "name": "stdout"
        }
      ]
    },
    {
      "cell_type": "code",
      "metadata": {
        "colab": {
          "base_uri": "https://localhost:8080/"
        },
        "id": "AzaVmSzEGOz3",
        "outputId": "f2c622be-bf78-479d-80b7-4325e4607cf4"
      },
      "source": [
        "#append into file\n",
        "f = open(\"fichier.txt\" , 'a') #caracter a as append into file\n",
        "text = input(\"write something: \")\n",
        "f.write(text)\n",
        "f.close()"
      ],
      "execution_count": 8,
      "outputs": [
        {
          "output_type": "stream",
          "text": [
            "write something:   ayoub ouuss\n"
          ],
          "name": "stdout"
        }
      ]
    },
    {
      "cell_type": "code",
      "metadata": {
        "colab": {
          "base_uri": "https://localhost:8080/"
        },
        "id": "AqG3YjpJGSTR",
        "outputId": "2cde55f4-0c7f-4fbf-8aac-9df6276454bc"
      },
      "source": [
        "#open file as readable\n",
        "f = open(\"fichier.txt\" , 'r') \n",
        "print(f.read())\n",
        "\n",
        "f.close()"
      ],
      "execution_count": 9,
      "outputs": [
        {
          "output_type": "stream",
          "text": [
            "anas aoujanailyas aoujana  ayoub ouuss\n"
          ],
          "name": "stdout"
        }
      ]
    },
    {
      "cell_type": "markdown",
      "metadata": {
        "id": "Lc27Gg1BHGuT"
      },
      "source": [
        "Using 'with' to open file"
      ]
    },
    {
      "cell_type": "code",
      "metadata": {
        "colab": {
          "base_uri": "https://localhost:8080/"
        },
        "id": "4WucM5HVHJ4i",
        "outputId": "198c43bd-a0b0-4f3b-a28c-0b1259d7db18"
      },
      "source": [
        "with open(\"test.txt\" , 'w' , encoding='utf8') as f:\n",
        "  f.write(\"Anas Aoujana\")\n",
        "  \n",
        "with open(\"test.txt\" , 'r') as f:\n",
        "  print(f.read())\n",
        "\n",
        "with open(\"test.txt\" , 'a') as f:\n",
        "  f.write(\"\\nIlyas AOUJANA\")\n",
        "  \n",
        "with open(\"test.txt\" , 'r') as f:\n",
        "  line = f.readline()                #read line from a file\n",
        "  print(\"line: %s\"% line)  "
      ],
      "execution_count": 17,
      "outputs": [
        {
          "output_type": "stream",
          "text": [
            "Anas Aoujana\n",
            "line: Anas Aoujana\n",
            "\n"
          ],
          "name": "stdout"
        }
      ]
    }
  ]
}