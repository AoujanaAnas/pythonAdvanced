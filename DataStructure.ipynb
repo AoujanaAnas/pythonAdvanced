{
  "nbformat": 4,
  "nbformat_minor": 0,
  "metadata": {
    "colab": {
      "name": "Untitled5.ipynb",
      "provenance": [],
      "authorship_tag": "ABX9TyPkbObZZq6XDhmbUnHCXlf9",
      "include_colab_link": true
    },
    "kernelspec": {
      "name": "python3",
      "display_name": "Python 3"
    },
    "language_info": {
      "name": "python"
    }
  },
  "cells": [
    {
      "cell_type": "markdown",
      "metadata": {
        "id": "view-in-github",
        "colab_type": "text"
      },
      "source": [
        "<a href=\"https://colab.research.google.com/github/AoujanaAnas/pythonAdvanced/blob/main/DataStructure.ipynb\" target=\"_parent\"><img src=\"https://colab.research.google.com/assets/colab-badge.svg\" alt=\"Open In Colab\"/></a>"
      ]
    },
    {
      "cell_type": "markdown",
      "metadata": {
        "id": "5eDS4HqhZeWn"
      },
      "source": [
        "Create code of the list"
      ]
    },
    {
      "cell_type": "code",
      "metadata": {
        "id": "-d2o4ShrQXU2"
      },
      "source": [
        "class Node:\n",
        "  def __init__(self, data = None , nextNode = None):\n",
        "    self.__data = data\n",
        "    self.__nextNode = nextNode\n",
        "  def getData(self):\n",
        "    return self.__data\n",
        "  def getNextNode(self):\n",
        "    return self.__nextNode\n",
        "  def setNextNode(self , next):\n",
        "    self.__nextNode = next\n",
        "\n",
        "class Linkedlist:\n",
        "  def __init__(self):\n",
        "    self.__head = Node('__head__')\n",
        "  def getNode(self, data):\n",
        "    current = self.__head\n",
        "    while current:\n",
        "      if current.getData() == data:\n",
        "        return current\n",
        "      else:\n",
        "        current = current.getNextNode()\n",
        "      \n",
        "    return None\n",
        "\n",
        "  def delete(self , data):\n",
        "    current = self.__head\n",
        "    previous = None\n",
        "    while current:\n",
        "      if current.getData() == data:\n",
        "        previous.setNextNode(current.getNextNode())\n",
        "        break;\n",
        "      else:\n",
        "        previous = current\n",
        "        current = current.getNextNode()\n",
        "\n",
        "  def append(self , data):\n",
        "    current = self.__head\n",
        "    while current.getNextNode():\n",
        "      #go to the last node of the list\n",
        "      current = current.getNextNode()\n",
        "    #append at the end of the list\n",
        "    current.setNextNode(Node(data)) \n",
        "\n",
        "  def size(self):\n",
        "    current = self.__head\n",
        "    count = 0\n",
        "    while current:\n",
        "      count = count+1\n",
        "      current = current.getNextNode()\n",
        "    return count\n",
        "\n",
        "  def printList(self):\n",
        "    current = self.__head.getNextNode()\n",
        "    while current:\n",
        "      print(\"data : \"+current.getData())\n",
        "      current = current.getNextNode()\n",
        "\n",
        "  \n",
        "\n",
        "\n",
        "\n",
        "   \n",
        "\n",
        "\n",
        "\n",
        "        \n",
        "\n"
      ],
      "execution_count": 33,
      "outputs": []
    },
    {
      "cell_type": "markdown",
      "metadata": {
        "id": "y3KSfB5-Zob7"
      },
      "source": [
        "Test our code"
      ]
    },
    {
      "cell_type": "code",
      "metadata": {
        "id": "yr-jQIjkZqkE"
      },
      "source": [
        "l = Linkedlist()"
      ],
      "execution_count": 26,
      "outputs": []
    },
    {
      "cell_type": "code",
      "metadata": {
        "colab": {
          "base_uri": "https://localhost:8080/"
        },
        "id": "IJpvYCT4ZwBf",
        "outputId": "23af396e-3c09-455b-a7dd-aba9d1e996a4"
      },
      "source": [
        "l.append('anas')\n",
        "l.printList()"
      ],
      "execution_count": 27,
      "outputs": [
        {
          "output_type": "stream",
          "text": [
            "data : anas\n"
          ],
          "name": "stdout"
        }
      ]
    },
    {
      "cell_type": "code",
      "metadata": {
        "colab": {
          "base_uri": "https://localhost:8080/"
        },
        "id": "msVDe21EZ2dY",
        "outputId": "083793c4-8428-4916-d610-2fe813bad16f"
      },
      "source": [
        "l.append('ouissal')\n",
        "l.printList()"
      ],
      "execution_count": 38,
      "outputs": [
        {
          "output_type": "stream",
          "text": [
            "data : ilyas\n",
            "data : ayoub\n",
            "data : yassmine\n",
            "data : youssra\n",
            "data : ouissal\n"
          ],
          "name": "stdout"
        }
      ]
    },
    {
      "cell_type": "code",
      "metadata": {
        "colab": {
          "base_uri": "https://localhost:8080/"
        },
        "id": "36z_K9u8bR_c",
        "outputId": "d4a609d9-3274-481e-b4e8-a529f722696d"
      },
      "source": [
        "l.delete('youssra')\n",
        "l.printList()"
      ],
      "execution_count": 37,
      "outputs": [
        {
          "output_type": "stream",
          "text": [
            "data : ilyas\n",
            "data : ayoub\n",
            "data : yassmine\n",
            "data : youssra\n"
          ],
          "name": "stdout"
        }
      ]
    },
    {
      "cell_type": "code",
      "metadata": {
        "colab": {
          "base_uri": "https://localhost:8080/"
        },
        "id": "Y4BR-Z8DbeXU",
        "outputId": "17e7b87d-e898-43f2-ca7c-b435b0c2e192"
      },
      "source": [
        "l.size()"
      ],
      "execution_count": 39,
      "outputs": [
        {
          "output_type": "execute_result",
          "data": {
            "text/plain": [
              "5"
            ]
          },
          "metadata": {},
          "execution_count": 39
        }
      ]
    },
    {
      "cell_type": "markdown",
      "metadata": {
        "id": "vW3vT5COeyEL"
      },
      "source": [
        "Waiting for more .............."
      ]
    }
  ]
}