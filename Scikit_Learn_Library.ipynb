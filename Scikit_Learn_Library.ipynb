{
  "nbformat": 4,
  "nbformat_minor": 0,
  "metadata": {
    "colab": {
      "name": "Untitled6.ipynb",
      "provenance": [],
      "authorship_tag": "ABX9TyN3xQSlw/2XPq8toQ03OiZ/",
      "include_colab_link": true
    },
    "kernelspec": {
      "name": "python3",
      "display_name": "Python 3"
    },
    "language_info": {
      "name": "python"
    }
  },
  "cells": [
    {
      "cell_type": "markdown",
      "metadata": {
        "id": "view-in-github",
        "colab_type": "text"
      },
      "source": [
        "<a href=\"https://colab.research.google.com/github/AoujanaAnas/pythonAdvanced/blob/main/Scikit_Learn_Library.ipynb\" target=\"_parent\"><img src=\"https://colab.research.google.com/assets/colab-badge.svg\" alt=\"Open In Colab\"/></a>"
      ]
    },
    {
      "cell_type": "markdown",
      "metadata": {
        "id": "c9mO1cZMnamQ"
      },
      "source": [
        "#Scikit-learn\n",
        "Linear regression\n",
        "\n",
        "\n"
      ]
    },
    {
      "cell_type": "code",
      "metadata": {
        "colab": {
          "base_uri": "https://localhost:8080/"
        },
        "id": "LKnjU-9qnOz4",
        "outputId": "d4620ead-b34e-4303-a42b-f8466d694981"
      },
      "source": [
        "from sklearn import linear_model\n",
        "\n",
        "x = [[0,0],[1,1],[2,2]]\n",
        "y = [0,1,2]\n",
        "\n",
        "reg = linear_model.LinearRegression() #crate a linear model\n",
        "reg.fit(x,y)                          #training this model\n",
        "reg.coef_                             #coefficient of this model\n"
      ],
      "execution_count": 13,
      "outputs": [
        {
          "output_type": "execute_result",
          "data": {
            "text/plain": [
              "array([0.5, 0.5])"
            ]
          },
          "metadata": {},
          "execution_count": 13
        }
      ]
    },
    {
      "cell_type": "markdown",
      "metadata": {
        "id": "Ak9fPpBboqku"
      },
      "source": [
        "##Transformer and pre-processors"
      ]
    },
    {
      "cell_type": "code",
      "metadata": {
        "colab": {
          "base_uri": "https://localhost:8080/"
        },
        "id": "Sv9PwQfpoxBA",
        "outputId": "4f585aec-dfbf-4133-d3e9-73ff58ce8c6c"
      },
      "source": [
        "from sklearn.preprocessing import StandardScaler\n",
        "\n",
        "x = [[0,0],[1,1],[2,2]]\n",
        "StandardScaler().fit(x).transform(x)"
      ],
      "execution_count": 3,
      "outputs": [
        {
          "output_type": "execute_result",
          "data": {
            "text/plain": [
              "array([[-1.22474487, -1.22474487],\n",
              "       [ 0.        ,  0.        ],\n",
              "       [ 1.22474487,  1.22474487]])"
            ]
          },
          "metadata": {},
          "execution_count": 3
        }
      ]
    },
    {
      "cell_type": "code",
      "metadata": {
        "colab": {
          "base_uri": "https://localhost:8080/"
        },
        "id": "pavqiRjepVMs",
        "outputId": "b9679108-9f58-46f8-f740-3140b730dce3"
      },
      "source": [
        "from sklearn.preprocessing import MinMaxScaler\n",
        "\n",
        "data = MinMaxScaler(feature_range=(0.,1.)).fit_transform(x)\n",
        "data"
      ],
      "execution_count": 7,
      "outputs": [
        {
          "output_type": "execute_result",
          "data": {
            "text/plain": [
              "array([[0. , 0. ],\n",
              "       [0.5, 0.5],\n",
              "       [1. , 1. ]])"
            ]
          },
          "metadata": {},
          "execution_count": 7
        }
      ]
    },
    {
      "cell_type": "markdown",
      "metadata": {
        "id": "fMVClxoYq5hH"
      },
      "source": [
        "##Pipeline: chaining pre-processors and estimators"
      ]
    },
    {
      "cell_type": "code",
      "metadata": {
        "colab": {
          "base_uri": "https://localhost:8080/"
        },
        "id": "JX1GbfDWrBzH",
        "outputId": "972e1571-f1be-4151-f78f-4e422dcc4091"
      },
      "source": [
        "from sklearn.pipeline import make_pipeline\n",
        "\n",
        "#create a pipeline object \n",
        "pipe = make_pipeline(\n",
        "    StandardScaler(),\n",
        "    linear_model.LinearRegression()\n",
        ")\n",
        "#fit the whole pipeline\n",
        "pipe.fit(x,y)\n",
        "\n",
        "#coefficient\n",
        "pipe[1].coef_        #the coeficient will be difirent than the first because we applie StandardScaler() on the data\n",
        " \n"
      ],
      "execution_count": 11,
      "outputs": [
        {
          "output_type": "execute_result",
          "data": {
            "text/plain": [
              "array([0.40824829, 0.40824829])"
            ]
          },
          "metadata": {},
          "execution_count": 11
        }
      ]
    },
    {
      "cell_type": "markdown",
      "metadata": {
        "id": "MWH6yjpZsK5n"
      },
      "source": [
        "##Model evaluation"
      ]
    },
    {
      "cell_type": "code",
      "metadata": {
        "colab": {
          "base_uri": "https://localhost:8080/"
        },
        "id": "5DAoMy5XsPVB",
        "outputId": "f835bcc4-f017-4325-e7a0-57f8431d30b7"
      },
      "source": [
        "from sklearn.model_selection import train_test_split\n",
        "from sklearn.metrics import mean_squared_error\n",
        "\n",
        "x_train , x_test , y_train , y_test = train_test_split(x , y , test_size=0.1)   #we split the data to training set and testing set and the 0.1 mean 10% of the data will be used for testing\n",
        "pipe.fit(x_train , y_train)                   # we fit the pipeline with the data\n",
        "\n",
        "mean_squared_error(y_test , pipe.predict(x_test))       #evaluate the performance of our model\n"
      ],
      "execution_count": 14,
      "outputs": [
        {
          "output_type": "execute_result",
          "data": {
            "text/plain": [
              "4.930380657631324e-32"
            ]
          },
          "metadata": {},
          "execution_count": 14
        }
      ]
    }
  ]
}