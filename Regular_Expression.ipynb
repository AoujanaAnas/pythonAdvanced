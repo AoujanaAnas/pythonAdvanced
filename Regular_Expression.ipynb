{
  "nbformat": 4,
  "nbformat_minor": 0,
  "metadata": {
    "colab": {
      "name": "Untitled2.ipynb",
      "provenance": [],
      "collapsed_sections": [],
      "authorship_tag": "ABX9TyPDa3ImKqpw9L0ZNQl96Hwh",
      "include_colab_link": true
    },
    "kernelspec": {
      "name": "python3",
      "display_name": "Python 3"
    },
    "language_info": {
      "name": "python"
    }
  },
  "cells": [
    {
      "cell_type": "markdown",
      "metadata": {
        "id": "view-in-github",
        "colab_type": "text"
      },
      "source": [
        "<a href=\"https://colab.research.google.com/github/AoujanaAnas/pythonAdvanced/blob/main/Regular_Expression.ipynb\" target=\"_parent\"><img src=\"https://colab.research.google.com/assets/colab-badge.svg\" alt=\"Open In Colab\"/></a>"
      ]
    },
    {
      "cell_type": "markdown",
      "metadata": {
        "id": "dOVvw65XBBns"
      },
      "source": [
        "**Python Advanced**\n",
        "\n",
        "  *Regular Expression"
      ]
    },
    {
      "cell_type": "code",
      "metadata": {
        "colab": {
          "base_uri": "https://localhost:8080/",
          "height": 0
        },
        "id": "Kac3jZ1-BP1s",
        "outputId": "77c6df52-72cb-4b6f-9972-caff2e0cac33"
      },
      "source": [
        "#Import re Module\n",
        "import re\n",
        "\n",
        "print(re.match('www' , 'www.anas.com').span())  #match() + span() to match with starting worg\n",
        "print(re.search('com' , 'www.anas.com').span())  #search() + span(to search for expression in sentence begining from the start\n",
        "\n",
        "#print(re.search('com' , 'www.anas.com'))"
      ],
      "execution_count": 39,
      "outputs": [
        {
          "output_type": "stream",
          "text": [
            "(0, 3)\n",
            "(9, 12)\n"
          ],
          "name": "stdout"
        }
      ]
    },
    {
      "cell_type": "code",
      "metadata": {
        "colab": {
          "base_uri": "https://localhost:8080/",
          "height": 0
        },
        "id": "aDfLoRCwA70a",
        "outputId": "bcd82376-2fc5-4c12-f5af-a31a898f068b"
      },
      "source": [
        "#Import re Module\n",
        "import re\n",
        "line = 'anas dahaba ila madrasa'\n",
        "sObjt = re.search(r'(.*) dahaba (.*)' , line)\n",
        "\n",
        "if sObjt :\n",
        "  print('sObjt ' , sObjt.group())     #all sentence where 'dahaba' found \n",
        "  print('sObjt ' , sObjt.group(1))    #all words in sentence before 'dahaba' \n",
        "  print('sObjt ' , sObjt.group(2))    #all words in sentence after 'dahaba' \n",
        "else :\n",
        "  print('Nothing found')\n",
        "#print(re.search('com' , 'www.anas.com'))"
      ],
      "execution_count": 38,
      "outputs": [
        {
          "output_type": "stream",
          "text": [
            "sObjt  anas dahaba ila madrasa\n",
            "sObjt  anas\n",
            "sObjt  ila madrasa\n"
          ],
          "name": "stdout"
        }
      ]
    },
    {
      "cell_type": "markdown",
      "metadata": {
        "id": "UdQFRbwKdeu_"
      },
      "source": [
        "delete text from sentence and let just phone number"
      ]
    },
    {
      "cell_type": "code",
      "metadata": {
        "colab": {
          "base_uri": "https://localhost:8080/",
          "height": 0
        },
        "id": "7FZkr5CEBP8r",
        "outputId": "f47aa10b-fb5f-4a33-b9e0-653cb9c021fb"
      },
      "source": [
        "import re\n",
        "phone = \"0693302360 # THIS IS MY PHONE NUMBER\"\n",
        "\n",
        "res = re.sub(r'#.*', \" \" , phone)\n",
        "print('phone: ',res)\n",
        "\n",
        "num = re.sub(r'\\D',\"\",phone)      # \\D mean remove everithing except degit(numbers) \n",
        "print('phone: ',num)"
      ],
      "execution_count": 13,
      "outputs": [
        {
          "output_type": "stream",
          "text": [
            "phone:  0693302360  \n",
            "phone:  0693302360\n"
          ],
          "name": "stdout"
        }
      ]
    },
    {
      "cell_type": "markdown",
      "metadata": {
        "id": "_NfreEVXfbpX"
      },
      "source": [
        "Find number or degit from a text"
      ]
    },
    {
      "cell_type": "code",
      "metadata": {
        "colab": {
          "base_uri": "https://localhost:8080/",
          "height": 0
        },
        "id": "DCv_FiqJe7BZ",
        "outputId": "1237406d-8780-480e-c740-339dc792c368"
      },
      "source": [
        "import re\n",
        "\n",
        "text = \" The name of beast is hhhhhhhhh 22/02/2001 in 999999999$ \"\n",
        "res = re.findall('[0-9]{1,10}' , text)     # find number between 0 and 9, and group them from 1 to 10 degit ===> '[0-9]{1,10}'\n",
        "res1 = re.findall('\\d+' , text)\n",
        "print(res)\n",
        "print(res1)"
      ],
      "execution_count": 35,
      "outputs": [
        {
          "output_type": "stream",
          "text": [
            "['22', '02', '2001', '999999999']\n",
            "['22', '02', '2001', '999999999']\n"
          ],
          "name": "stdout"
        }
      ]
    },
    {
      "cell_type": "markdown",
      "metadata": {
        "id": "ZAa2CNtwjExs"
      },
      "source": [
        "find every <'div'> tag "
      ]
    },
    {
      "cell_type": "code",
      "metadata": {
        "colab": {
          "base_uri": "https://localhost:8080/",
          "height": 0
        },
        "id": "VV0aiRnqjOgB",
        "outputId": "5af2621c-a413-4048-e9ef-a7b4556e34cc"
      },
      "source": [
        "import re\n",
        "\n",
        "html = \"<html><head><title>  Je suis anas </title></head><body>  <div>div1</div> <div>div2</div> <div>div3</div> </body></html>\"\n",
        "tag = re.findall('<div>.*</div>' , html)\n",
        "print(tag)"
      ],
      "execution_count": 37,
      "outputs": [
        {
          "output_type": "stream",
          "text": [
            "['<div>div1</div> <div>div2</div> <div>div3</div>']\n"
          ],
          "name": "stdout"
        }
      ]
    },
    {
      "cell_type": "code",
      "metadata": {
        "id": "ztKWr0yHjJmC"
      },
      "source": [
        ""
      ],
      "execution_count": null,
      "outputs": []
    }
  ]
}