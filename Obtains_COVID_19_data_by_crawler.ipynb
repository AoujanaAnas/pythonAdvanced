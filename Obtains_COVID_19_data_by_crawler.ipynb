{
  "nbformat": 4,
  "nbformat_minor": 0,
  "metadata": {
    "colab": {
      "name": "Untitled7.ipynb",
      "provenance": [],
      "authorship_tag": "ABX9TyM3PjYoiVjtBuGJ5oay8ooM",
      "include_colab_link": true
    },
    "kernelspec": {
      "name": "python3",
      "display_name": "Python 3"
    },
    "language_info": {
      "name": "python"
    }
  },
  "cells": [
    {
      "cell_type": "markdown",
      "metadata": {
        "id": "view-in-github",
        "colab_type": "text"
      },
      "source": [
        "<a href=\"https://colab.research.google.com/github/AoujanaAnas/pythonAdvanced/blob/main/Obtains_COVID_19_data_by_crawler.ipynb\" target=\"_parent\"><img src=\"https://colab.research.google.com/assets/colab-badge.svg\" alt=\"Open In Colab\"/></a>"
      ]
    },
    {
      "cell_type": "markdown",
      "metadata": {
        "id": "Ih_6k4B6xZFz"
      },
      "source": [
        "#Coronavirus Tracker"
      ]
    },
    {
      "cell_type": "code",
      "metadata": {
        "id": "7Mt0tuziw6Os"
      },
      "source": [
        "import requests as req\n",
        "from bs4 import BeautifulSoup\n",
        "import numpy as np\n",
        "import pandas as pd\n"
      ],
      "execution_count": 1,
      "outputs": []
    },
    {
      "cell_type": "markdown",
      "metadata": {
        "id": "ODGY2DM_yAue"
      },
      "source": [
        "##Get data"
      ]
    },
    {
      "cell_type": "code",
      "metadata": {
        "id": "m5f83z3HyCYx"
      },
      "source": [
        "# Request data from website\n",
        "html = req.get(\"https://www.worldometers.info/coronavirus/\")\n"
      ],
      "execution_count": 4,
      "outputs": []
    },
    {
      "cell_type": "code",
      "metadata": {
        "id": "R2vJNDm_yCf4"
      },
      "source": [
        "# check downloaded content\n",
        "html.content"
      ],
      "execution_count": null,
      "outputs": []
    },
    {
      "cell_type": "markdown",
      "metadata": {
        "id": "aDBlNmVzzR1O"
      },
      "source": [
        "###Parse html"
      ]
    },
    {
      "cell_type": "code",
      "metadata": {
        "id": "N7hOZcIBzOJn"
      },
      "source": [
        "# Parse HTML with BeautifulSoup\n",
        "html_parsed = BeautifulSoup(html.content)"
      ],
      "execution_count": 6,
      "outputs": []
    },
    {
      "cell_type": "code",
      "metadata": {
        "id": "bjZOe-4FzoY0"
      },
      "source": [
        "# Search for the required table\n",
        "table = html_parsed.find('table' , attrs={'id' : 'main_table_countries_today'})      #information of table who has id = 'main_table_countries_today'\n"
      ],
      "execution_count": 7,
      "outputs": []
    },
    {
      "cell_type": "code",
      "metadata": {
        "id": "PbN__X7I0OS0"
      },
      "source": [
        "# Check result\n",
        "table"
      ],
      "execution_count": null,
      "outputs": []
    },
    {
      "cell_type": "code",
      "metadata": {
        "id": "nNwRbr4L2WiN"
      },
      "source": [
        "# Gt all the rows\n",
        "rows = table.find_all('tr')"
      ],
      "execution_count": 9,
      "outputs": []
    },
    {
      "cell_type": "code",
      "metadata": {
        "colab": {
          "base_uri": "https://localhost:8080/"
        },
        "id": "DIju8ziP2jMR",
        "outputId": "8297bc16-e40a-4e45-8741-66b53047dab7"
      },
      "source": [
        "# Check result\n",
        "rows[4]"
      ],
      "execution_count": 14,
      "outputs": [
        {
          "output_type": "execute_result",
          "data": {
            "text/plain": [
              "<tr class=\"total_row_world row_continent\" data-continent=\"Europe\" style=\"display: none\">\n",
              "<td></td>\n",
              "<td style=\"text-align:left;\">\n",
              "<nobr>Europe</nobr>\n",
              "</td>\n",
              "<td>54,844,490</td>\n",
              "<td>+101,965</td>\n",
              "<td>1,167,382</td>\n",
              "<td>+1,132</td>\n",
              "<td>49,889,284</td>\n",
              "<td>+122,891</td>\n",
              "<td>3,787,824</td>\n",
              "<td>11,112</td>\n",
              "<td></td>\n",
              "<td></td>\n",
              "<td></td>\n",
              "<td></td>\n",
              "<td></td>\n",
              "<td data-continent=\"Europe\" style=\"display:none;\">Europe</td>\n",
              "<td>\n",
              "</td>\n",
              "<td></td>\n",
              "<td></td>\n",
              "<td></td>\n",
              "<td></td>\n",
              "<td></td>\n",
              "</tr>"
            ]
          },
          "metadata": {},
          "execution_count": 14
        }
      ]
    },
    {
      "cell_type": "code",
      "metadata": {
        "colab": {
          "base_uri": "https://localhost:8080/"
        },
        "id": "Gp5_oVSA214x",
        "outputId": "cdfb3332-6cce-4052-f0b0-e5f904c11f70"
      },
      "source": [
        "# tokenization\n",
        "rows[9].text.strip().split(\"\\n\")      # text.strip() remove all the markers 'HTML balise' \n",
        "                                      #because of data sparated by \\n we have to split them by \\n  (split(\"\\n\") ==> to devide string into a list)"
      ],
      "execution_count": 19,
      "outputs": [
        {
          "output_type": "execute_result",
          "data": {
            "text/plain": [
              "['1',\n",
              " 'USA',\n",
              " '39,360,976',\n",
              " '+18,823',\n",
              " '652,088 ',\n",
              " '+132',\n",
              " '30,733,978',\n",
              " '+1,858',\n",
              " '7,974,910',\n",
              " '24,812',\n",
              " '118,117',\n",
              " '1,957',\n",
              " '575,692,515',\n",
              " '1,727,582',\n",
              " '333,236,063 ',\n",
              " 'North America',\n",
              " '85111',\n",
              " '56',\n",
              " '0.4',\n",
              " '23,932']"
            ]
          },
          "metadata": {},
          "execution_count": 19
        }
      ]
    },
    {
      "cell_type": "markdown",
      "metadata": {
        "id": "93JNHOS94NGr"
      },
      "source": [
        "###Store data"
      ]
    },
    {
      "cell_type": "code",
      "metadata": {
        "id": "IbfRUjol4GDj"
      },
      "source": [
        "# store rows into list (data)\n",
        "data = []\n",
        "\n",
        "for x in rows:\n",
        "  data.append(x.text.strip().split(\"\\n\")[1:5])  # [1:5] get only the first 5 columns (column who has title) "
      ],
      "execution_count": 28,
      "outputs": []
    },
    {
      "cell_type": "code",
      "metadata": {
        "id": "m00vLYr12_Zj"
      },
      "source": [
        "#Convert a list into DataFrame\n",
        "df = pd.DataFrame(data)"
      ],
      "execution_count": 29,
      "outputs": []
    },
    {
      "cell_type": "code",
      "metadata": {
        "colab": {
          "base_uri": "https://localhost:8080/",
          "height": 204
        },
        "id": "CKmCkzV95HM_",
        "outputId": "1f69383c-71cd-4fdb-9e5e-70965a288083"
      },
      "source": [
        "# Check the DataFrame\n",
        "df.head()"
      ],
      "execution_count": 31,
      "outputs": [
        {
          "output_type": "execute_result",
          "data": {
            "text/html": [
              "<div>\n",
              "<style scoped>\n",
              "    .dataframe tbody tr th:only-of-type {\n",
              "        vertical-align: middle;\n",
              "    }\n",
              "\n",
              "    .dataframe tbody tr th {\n",
              "        vertical-align: top;\n",
              "    }\n",
              "\n",
              "    .dataframe thead th {\n",
              "        text-align: right;\n",
              "    }\n",
              "</style>\n",
              "<table border=\"1\" class=\"dataframe\">\n",
              "  <thead>\n",
              "    <tr style=\"text-align: right;\">\n",
              "      <th></th>\n",
              "      <th>0</th>\n",
              "      <th>1</th>\n",
              "      <th>2</th>\n",
              "      <th>3</th>\n",
              "    </tr>\n",
              "  </thead>\n",
              "  <tbody>\n",
              "    <tr>\n",
              "      <th>0</th>\n",
              "      <td>Country,Other</td>\n",
              "      <td>TotalCases</td>\n",
              "      <td>NewCases</td>\n",
              "      <td>TotalDeaths</td>\n",
              "    </tr>\n",
              "    <tr>\n",
              "      <th>1</th>\n",
              "      <td></td>\n",
              "      <td>47,226,130</td>\n",
              "      <td>+49,989</td>\n",
              "      <td>985,793</td>\n",
              "    </tr>\n",
              "    <tr>\n",
              "      <th>2</th>\n",
              "      <td></td>\n",
              "      <td>69,117,463</td>\n",
              "      <td>+244,918</td>\n",
              "      <td>1,019,640</td>\n",
              "    </tr>\n",
              "    <tr>\n",
              "      <th>3</th>\n",
              "      <td></td>\n",
              "      <td>36,769,110</td>\n",
              "      <td>+1,199</td>\n",
              "      <td>1,125,858</td>\n",
              "    </tr>\n",
              "    <tr>\n",
              "      <th>4</th>\n",
              "      <td></td>\n",
              "      <td>54,844,490</td>\n",
              "      <td>+101,965</td>\n",
              "      <td>1,167,382</td>\n",
              "    </tr>\n",
              "  </tbody>\n",
              "</table>\n",
              "</div>"
            ],
            "text/plain": [
              "               0           1         2            3\n",
              "0  Country,Other  TotalCases  NewCases  TotalDeaths\n",
              "1                 47,226,130   +49,989      985,793\n",
              "2                 69,117,463  +244,918    1,019,640\n",
              "3                 36,769,110    +1,199    1,125,858\n",
              "4                 54,844,490  +101,965    1,167,382"
            ]
          },
          "metadata": {},
          "execution_count": 31
        }
      ]
    },
    {
      "cell_type": "code",
      "metadata": {
        "id": "nSKBSejX6egs"
      },
      "source": [
        "# Set the first row as the head and remove the second row\n",
        "df = pd.DataFrame(data[9:] , columns=data[0])     #data[9:] ==> 9 it mean that the first country begin from index 9 in our result So we will slice it from it\n",
        "                                                  #and set columns name to index 0 ==> loock at lest of USA there is a index who beging from 0 THAT'S IT  "
      ],
      "execution_count": 39,
      "outputs": []
    },
    {
      "cell_type": "code",
      "metadata": {
        "colab": {
          "base_uri": "https://localhost:8080/",
          "height": 204
        },
        "id": "0I5Sp-VH6yKg",
        "outputId": "32dfa244-98b7-47dd-f673-a62c985bc611"
      },
      "source": [
        "# Check the DataFrame\n",
        "df.head()"
      ],
      "execution_count": 40,
      "outputs": [
        {
          "output_type": "execute_result",
          "data": {
            "text/html": [
              "<div>\n",
              "<style scoped>\n",
              "    .dataframe tbody tr th:only-of-type {\n",
              "        vertical-align: middle;\n",
              "    }\n",
              "\n",
              "    .dataframe tbody tr th {\n",
              "        vertical-align: top;\n",
              "    }\n",
              "\n",
              "    .dataframe thead th {\n",
              "        text-align: right;\n",
              "    }\n",
              "</style>\n",
              "<table border=\"1\" class=\"dataframe\">\n",
              "  <thead>\n",
              "    <tr style=\"text-align: right;\">\n",
              "      <th></th>\n",
              "      <th>Country,Other</th>\n",
              "      <th>TotalCases</th>\n",
              "      <th>NewCases</th>\n",
              "      <th>TotalDeaths</th>\n",
              "    </tr>\n",
              "  </thead>\n",
              "  <tbody>\n",
              "    <tr>\n",
              "      <th>0</th>\n",
              "      <td>USA</td>\n",
              "      <td>39,360,976</td>\n",
              "      <td>+18,823</td>\n",
              "      <td>652,088</td>\n",
              "    </tr>\n",
              "    <tr>\n",
              "      <th>1</th>\n",
              "      <td>India</td>\n",
              "      <td>32,649,066</td>\n",
              "      <td>+46,741</td>\n",
              "      <td>437,400</td>\n",
              "    </tr>\n",
              "    <tr>\n",
              "      <th>2</th>\n",
              "      <td>Brazil</td>\n",
              "      <td>20,676,561</td>\n",
              "      <td></td>\n",
              "      <td>577,605</td>\n",
              "    </tr>\n",
              "    <tr>\n",
              "      <th>3</th>\n",
              "      <td>Russia</td>\n",
              "      <td>6,844,049</td>\n",
              "      <td>+19,509</td>\n",
              "      <td>180,041</td>\n",
              "    </tr>\n",
              "    <tr>\n",
              "      <th>4</th>\n",
              "      <td>France</td>\n",
              "      <td>6,693,019</td>\n",
              "      <td></td>\n",
              "      <td>113,988</td>\n",
              "    </tr>\n",
              "  </tbody>\n",
              "</table>\n",
              "</div>"
            ],
            "text/plain": [
              "  Country,Other  TotalCases NewCases TotalDeaths\n",
              "0           USA  39,360,976  +18,823    652,088 \n",
              "1         India  32,649,066  +46,741    437,400 \n",
              "2        Brazil  20,676,561             577,605 \n",
              "3        Russia   6,844,049  +19,509    180,041 \n",
              "4        France   6,693,019             113,988 "
            ]
          },
          "metadata": {},
          "execution_count": 40
        }
      ]
    },
    {
      "cell_type": "code",
      "metadata": {
        "id": "XGZBkG7I6z0W"
      },
      "source": [
        "# Save as csv file\n",
        "df.to_csv('covid19')"
      ],
      "execution_count": 41,
      "outputs": []
    },
    {
      "cell_type": "markdown",
      "metadata": {
        "id": "6ARa2yb99JzT"
      },
      "source": [
        "#Visualise"
      ]
    },
    {
      "cell_type": "code",
      "metadata": {
        "id": "nq6J-lXw9Mgu"
      },
      "source": [
        "#get the required columns\n",
        "df_plot = df[['Country,Other' , 'TotalCases']]\n",
        "#get first 10 rows\n",
        "df_plot = df_plot[:10]"
      ],
      "execution_count": 42,
      "outputs": []
    },
    {
      "cell_type": "code",
      "metadata": {
        "colab": {
          "base_uri": "https://localhost:8080/",
          "height": 204
        },
        "id": "SAyXVw6H-bYb",
        "outputId": "d8b223c2-9aee-47ba-f0bb-792700ef5103"
      },
      "source": [
        "#Check the DataFrame\n",
        "df_plot.head()"
      ],
      "execution_count": 43,
      "outputs": [
        {
          "output_type": "execute_result",
          "data": {
            "text/html": [
              "<div>\n",
              "<style scoped>\n",
              "    .dataframe tbody tr th:only-of-type {\n",
              "        vertical-align: middle;\n",
              "    }\n",
              "\n",
              "    .dataframe tbody tr th {\n",
              "        vertical-align: top;\n",
              "    }\n",
              "\n",
              "    .dataframe thead th {\n",
              "        text-align: right;\n",
              "    }\n",
              "</style>\n",
              "<table border=\"1\" class=\"dataframe\">\n",
              "  <thead>\n",
              "    <tr style=\"text-align: right;\">\n",
              "      <th></th>\n",
              "      <th>Country,Other</th>\n",
              "      <th>TotalCases</th>\n",
              "    </tr>\n",
              "  </thead>\n",
              "  <tbody>\n",
              "    <tr>\n",
              "      <th>0</th>\n",
              "      <td>USA</td>\n",
              "      <td>39,360,976</td>\n",
              "    </tr>\n",
              "    <tr>\n",
              "      <th>1</th>\n",
              "      <td>India</td>\n",
              "      <td>32,649,066</td>\n",
              "    </tr>\n",
              "    <tr>\n",
              "      <th>2</th>\n",
              "      <td>Brazil</td>\n",
              "      <td>20,676,561</td>\n",
              "    </tr>\n",
              "    <tr>\n",
              "      <th>3</th>\n",
              "      <td>Russia</td>\n",
              "      <td>6,844,049</td>\n",
              "    </tr>\n",
              "    <tr>\n",
              "      <th>4</th>\n",
              "      <td>France</td>\n",
              "      <td>6,693,019</td>\n",
              "    </tr>\n",
              "  </tbody>\n",
              "</table>\n",
              "</div>"
            ],
            "text/plain": [
              "  Country,Other  TotalCases\n",
              "0           USA  39,360,976\n",
              "1         India  32,649,066\n",
              "2        Brazil  20,676,561\n",
              "3        Russia   6,844,049\n",
              "4        France   6,693,019"
            ]
          },
          "metadata": {},
          "execution_count": 43
        }
      ]
    },
    {
      "cell_type": "code",
      "metadata": {
        "id": "fF7k89kz9nol"
      },
      "source": [
        "#remove cammas in digits, and convert string to int\n",
        "df_plot['TotalCases'] = df_plot['TotalCases'].apply(lambda x: x.replace(',' , '')).astype(int)  \n",
        "          #!!!!!!!NOTICE!!!!!!!!! THAT FOR ME TO REMEMBRE      #DON'T COMPILE THIS PEACE OF CODE BECAUSE WILL GIVE YOU AN ERROR\n",
        "                                                                                               #this error is just because i already convert it \n",
        "                                                                                            #and when i convert it the second time they give me this error\n",
        "                                                                                             #int can't convert to int ('stupid hhhhhhhhh')"
      ],
      "execution_count": null,
      "outputs": []
    },
    {
      "cell_type": "code",
      "metadata": {
        "colab": {
          "base_uri": "https://localhost:8080/",
          "height": 204
        },
        "id": "ySDFg1VF-lE2",
        "outputId": "7d8c98ac-f4a0-4c14-9f8b-60c801844af2"
      },
      "source": [
        "#Check the DataFrame\n",
        "df_plot.head()"
      ],
      "execution_count": 48,
      "outputs": [
        {
          "output_type": "execute_result",
          "data": {
            "text/html": [
              "<div>\n",
              "<style scoped>\n",
              "    .dataframe tbody tr th:only-of-type {\n",
              "        vertical-align: middle;\n",
              "    }\n",
              "\n",
              "    .dataframe tbody tr th {\n",
              "        vertical-align: top;\n",
              "    }\n",
              "\n",
              "    .dataframe thead th {\n",
              "        text-align: right;\n",
              "    }\n",
              "</style>\n",
              "<table border=\"1\" class=\"dataframe\">\n",
              "  <thead>\n",
              "    <tr style=\"text-align: right;\">\n",
              "      <th></th>\n",
              "      <th>Country,Other</th>\n",
              "      <th>TotalCases</th>\n",
              "    </tr>\n",
              "  </thead>\n",
              "  <tbody>\n",
              "    <tr>\n",
              "      <th>0</th>\n",
              "      <td>USA</td>\n",
              "      <td>39360976</td>\n",
              "    </tr>\n",
              "    <tr>\n",
              "      <th>1</th>\n",
              "      <td>India</td>\n",
              "      <td>32649066</td>\n",
              "    </tr>\n",
              "    <tr>\n",
              "      <th>2</th>\n",
              "      <td>Brazil</td>\n",
              "      <td>20676561</td>\n",
              "    </tr>\n",
              "    <tr>\n",
              "      <th>3</th>\n",
              "      <td>Russia</td>\n",
              "      <td>6844049</td>\n",
              "    </tr>\n",
              "    <tr>\n",
              "      <th>4</th>\n",
              "      <td>France</td>\n",
              "      <td>6693019</td>\n",
              "    </tr>\n",
              "  </tbody>\n",
              "</table>\n",
              "</div>"
            ],
            "text/plain": [
              "  Country,Other  TotalCases\n",
              "0           USA    39360976\n",
              "1         India    32649066\n",
              "2        Brazil    20676561\n",
              "3        Russia     6844049\n",
              "4        France     6693019"
            ]
          },
          "metadata": {},
          "execution_count": 48
        }
      ]
    },
    {
      "cell_type": "code",
      "metadata": {
        "colab": {
          "base_uri": "https://localhost:8080/",
          "height": 346
        },
        "id": "4ypTgAHV_Lyy",
        "outputId": "f11b2780-4093-4b7b-d867-c59e3cf2905f"
      },
      "source": [
        "#plot\n",
        "df_plot.plot(kind='bar' , x='Country,Other' , y='TotalCases')"
      ],
      "execution_count": 52,
      "outputs": [
        {
          "output_type": "execute_result",
          "data": {
            "text/plain": [
              "<matplotlib.axes._subplots.AxesSubplot at 0x7fd13eb561d0>"
            ]
          },
          "metadata": {},
          "execution_count": 52
        },
        {
          "output_type": "display_data",
          "data": {
            "image/png": "[encoded data removed]",
            "text/plain": [
              "<Figure size 432x288 with 1 Axes>"
            ]
          },
          "metadata": {
            "needs_background": "light"
          }
        }
      ]
    }
  ]
}