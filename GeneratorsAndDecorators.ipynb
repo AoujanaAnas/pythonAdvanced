{
  "nbformat": 4,
  "nbformat_minor": 0,
  "metadata": {
    "colab": {
      "name": "Untitled4.ipynb",
      "provenance": [],
      "collapsed_sections": [],
      "authorship_tag": "ABX9TyOkPa/BKwbnJ0v76A7UCbYh",
      "include_colab_link": true
    },
    "kernelspec": {
      "name": "python3",
      "display_name": "Python 3"
    },
    "language_info": {
      "name": "python"
    }
  },
  "cells": [
    {
      "cell_type": "markdown",
      "metadata": {
        "id": "view-in-github",
        "colab_type": "text"
      },
      "source": [
        "<a href=\"https://colab.research.google.com/github/AoujanaAnas/pythonAdvanced/blob/main/GeneratorsAndDecorators.ipynb\" target=\"_parent\"><img src=\"https://colab.research.google.com/assets/colab-badge.svg\" alt=\"Open In Colab\"/></a>"
      ]
    },
    {
      "cell_type": "markdown",
      "metadata": {
        "id": "73SxC_sL87Qp"
      },
      "source": [
        "#Exeption"
      ]
    },
    {
      "cell_type": "code",
      "metadata": {
        "colab": {
          "base_uri": "https://localhost:8080/"
        },
        "id": "FQGT8Tg06CGU",
        "outputId": "1e358b05-69e9-45bf-df8f-bbc1a231c165"
      },
      "source": [
        "a = 5\n",
        "b = 3\n",
        "\n",
        "try:\n",
        "  print(a/b)\n",
        "except ZeroDivisionError:\n",
        "    print(\"division by zero\")\n",
        "finally:\n",
        "  print(\"code nice\")\n"
      ],
      "execution_count": 3,
      "outputs": [
        {
          "output_type": "stream",
          "text": [
            "1.6666666666666667\n",
            "code nice\n"
          ],
          "name": "stdout"
        }
      ]
    },
    {
      "cell_type": "code",
      "metadata": {
        "colab": {
          "base_uri": "https://localhost:8080/",
          "height": 197
        },
        "id": "dVOouaeh686K",
        "outputId": "adb1e62a-a6e4-47f1-a9ea-53d501dcdc21"
      },
      "source": [
        "class MyError(Exception):\n",
        "  def __init__(self,InfoOfError):\n",
        "    super().__init__(self)\n",
        "    self.info = InfoOfError\n",
        "  def __str__(self):\n",
        "    return self.info\n",
        "\n",
        "  \n",
        "raise MyError(\"hhhhhhhh my exeption\")"
      ],
      "execution_count": 7,
      "outputs": [
        {
          "output_type": "error",
          "ename": "MyError",
          "evalue": "ignored",
          "traceback": [
            "\u001b[0;31m---------------------------------------------------------------------------\u001b[0m",
            "\u001b[0;31mMyError\u001b[0m                                   Traceback (most recent call last)",
            "\u001b[0;32m<ipython-input-7-acdc64f56d20>\u001b[0m in \u001b[0;36m<module>\u001b[0;34m()\u001b[0m\n\u001b[1;32m      7\u001b[0m \u001b[0;34m\u001b[0m\u001b[0m\n\u001b[1;32m      8\u001b[0m \u001b[0;34m\u001b[0m\u001b[0m\n\u001b[0;32m----> 9\u001b[0;31m \u001b[0;32mraise\u001b[0m \u001b[0mMyError\u001b[0m\u001b[0;34m(\u001b[0m\u001b[0;34m\"hhhhhhhh my exeption\"\u001b[0m\u001b[0;34m)\u001b[0m\u001b[0;34m\u001b[0m\u001b[0;34m\u001b[0m\u001b[0m\n\u001b[0m",
            "\u001b[0;31mMyError\u001b[0m: hhhhhhhh my exeption"
          ]
        }
      ]
    },
    {
      "cell_type": "markdown",
      "metadata": {
        "id": "0whGIvuQ9BAA"
      },
      "source": [
        "#Generators and Decorators  "
      ]
    },
    {
      "cell_type": "code",
      "metadata": {
        "colab": {
          "base_uri": "https://localhost:8080/"
        },
        "id": "oMsw6odX9KKi",
        "outputId": "c91b2aa3-1bfb-4a25-b8e7-a88ce544c0e6"
      },
      "source": [
        "import collections as c\n",
        "\n",
        "print(isinstance([] , c.Iterable))\n",
        "print(isinstance('ABC' , c.Iterable))\n",
        "print(isinstance(100 , c.Iterable))\n"
      ],
      "execution_count": 9,
      "outputs": [
        {
          "output_type": "stream",
          "text": [
            "True\n",
            "True\n",
            "False\n"
          ],
          "name": "stdout"
        },
        {
          "output_type": "stream",
          "text": [
            "/usr/local/lib/python3.7/dist-packages/ipykernel_launcher.py:3: DeprecationWarning: Using or importing the ABCs from 'collections' instead of from 'collections.abc' is deprecated since Python 3.3,and in 3.9 it will stop working\n",
            "  This is separate from the ipykernel package so we can avoid doing imports until\n"
          ],
          "name": "stderr"
        }
      ]
    },
    {
      "cell_type": "code",
      "metadata": {
        "colab": {
          "base_uri": "https://localhost:8080/"
        },
        "id": "aoZHsSKv-W0m",
        "outputId": "f4519fa1-320c-40cd-86a9-58bab6b7a1d5"
      },
      "source": [
        " l = [3,6,4,1,0]\n",
        " l_iter = iter(l)\n",
        "\n",
        " print(type(l))"
      ],
      "execution_count": 24,
      "outputs": [
        {
          "output_type": "stream",
          "text": [
            "<class 'list'>\n"
          ],
          "name": "stdout"
        }
      ]
    },
    {
      "cell_type": "code",
      "metadata": {
        "colab": {
          "base_uri": "https://localhost:8080/"
        },
        "id": "1mrCTHhW_lMM",
        "outputId": "f9cd81c1-a994-4d44-ec32-70bc0eb15a52"
      },
      "source": [
        "next(l_iter)"
      ],
      "execution_count": 25,
      "outputs": [
        {
          "output_type": "execute_result",
          "data": {
            "text/plain": [
              "3"
            ]
          },
          "metadata": {
            "tags": []
          },
          "execution_count": 25
        }
      ]
    },
    {
      "cell_type": "code",
      "metadata": {
        "colab": {
          "base_uri": "https://localhost:8080/"
        },
        "id": "SDV-uvnC_3ne",
        "outputId": "1efd9327-97be-4552-d073-2dbf27049ce5"
      },
      "source": [
        "#use yield statement to construct a generator for fibinacci squence\n",
        "\n",
        "def fib(n):\n",
        "  current = 0\n",
        "  num1,num2 = 0 , 1\n",
        "  while current < n:\n",
        "    num = num1\n",
        "    num1,num2 = num2 , num1+num2\n",
        "    current += 1\n",
        "    yield num\n",
        "  yield \"done\"\n",
        "  \n",
        "g = fib(5)\n",
        "\n",
        "for i in g:\n",
        "  print(i)\n"
      ],
      "execution_count": 30,
      "outputs": [
        {
          "output_type": "stream",
          "text": [
            "0\n",
            "1\n",
            "1\n",
            "2\n",
            "3\n",
            "done\n"
          ],
          "name": "stdout"
        }
      ]
    },
    {
      "cell_type": "code",
      "metadata": {
        "colab": {
          "base_uri": "https://localhost:8080/"
        },
        "id": "LHqKBErOCKlg",
        "outputId": "f6ff5c0e-e755-47aa-b955-23bc24df353f"
      },
      "source": [
        "b = (i*3 for i in range(5))\n",
        "\n",
        "print(type(b))\n",
        "\n",
        "for x in b:\n",
        "  print(x)"
      ],
      "execution_count": 32,
      "outputs": [
        {
          "output_type": "stream",
          "text": [
            "<class 'generator'>\n",
            "0\n",
            "3\n",
            "6\n",
            "9\n",
            "12\n"
          ],
          "name": "stdout"
        }
      ]
    },
    {
      "cell_type": "markdown",
      "metadata": {
        "id": "ZvuJlWOREM7e"
      },
      "source": [
        "#Decorator"
      ]
    },
    {
      "cell_type": "code",
      "metadata": {
        "colab": {
          "base_uri": "https://localhost:8080/"
        },
        "id": "yBrEPHmSDgpJ",
        "outputId": "ce7e9f4e-b826-46fe-ed54-dc0ab86f4965"
      },
      "source": [
        "#decorators\n",
        "\n",
        "def decorat(func):\n",
        "  def decorated():\n",
        "    print(\"i am decorated\")\n",
        "    func()\n",
        "  return decorated\n",
        "\n",
        "@decorat\n",
        "def plain():\n",
        "  print(\"plain\")\n",
        "\n",
        "plain()\n"
      ],
      "execution_count": 35,
      "outputs": [
        {
          "output_type": "stream",
          "text": [
            "i am decorated\n",
            "plain\n"
          ],
          "name": "stdout"
        }
      ]
    }
  ]
}